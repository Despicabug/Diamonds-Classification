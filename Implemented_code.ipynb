{
 "cells": [
  {
   "cell_type": "code",
   "execution_count": 1,
   "metadata": {
    "_cell_guid": "b1076dfc-b9ad-4769-8c92-a6c4dae69d19",
    "_uuid": "8f2839f25d086af736a60e9eeb907d3b93b6e0e5",
    "execution": {
     "iopub.execute_input": "2022-01-17T17:30:56.727688Z",
     "iopub.status.busy": "2022-01-17T17:30:56.727261Z",
     "iopub.status.idle": "2022-01-17T17:30:56.764332Z",
     "shell.execute_reply": "2022-01-17T17:30:56.763739Z",
     "shell.execute_reply.started": "2022-01-17T17:30:56.727577Z"
    }
   },
   "outputs": [
    {
     "ename": "ModuleNotFoundError",
     "evalue": "No module named 'plotly'",
     "output_type": "error",
     "traceback": [
      "\u001b[1;31m---------------------------------------------------------------------------\u001b[0m",
      "\u001b[1;31mModuleNotFoundError\u001b[0m                       Traceback (most recent call last)",
      "\u001b[1;32m<ipython-input-1-546dca7a9268>\u001b[0m in \u001b[0;36m<module>\u001b[1;34m\u001b[0m\n\u001b[0;32m      2\u001b[0m \u001b[1;32mimport\u001b[0m \u001b[0mpandas\u001b[0m \u001b[1;32mas\u001b[0m \u001b[0mpd\u001b[0m\u001b[1;33m\u001b[0m\u001b[1;33m\u001b[0m\u001b[0m\n\u001b[0;32m      3\u001b[0m \u001b[1;33m\u001b[0m\u001b[0m\n\u001b[1;32m----> 4\u001b[1;33m \u001b[1;32mimport\u001b[0m \u001b[0mplotly\u001b[0m\u001b[1;33m.\u001b[0m\u001b[0mgraph_objects\u001b[0m \u001b[1;32mas\u001b[0m \u001b[0mgo\u001b[0m\u001b[1;33m\u001b[0m\u001b[1;33m\u001b[0m\u001b[0m\n\u001b[0m\u001b[0;32m      5\u001b[0m \u001b[1;32mimport\u001b[0m \u001b[0mmatplotlib\u001b[0m\u001b[1;33m.\u001b[0m\u001b[0mpyplot\u001b[0m \u001b[1;32mas\u001b[0m \u001b[0mplt\u001b[0m\u001b[1;33m\u001b[0m\u001b[1;33m\u001b[0m\u001b[0m\n\u001b[0;32m      6\u001b[0m \u001b[1;33m\u001b[0m\u001b[0m\n",
      "\u001b[1;31mModuleNotFoundError\u001b[0m: No module named 'plotly'"
     ]
    }
   ],
   "source": [
    "import numpy as np\n",
    "import pandas as pd\n",
    "\n",
    "import plotly.graph_objects as go\n",
    "import matplotlib.pyplot as plt\n",
    "\n",
    "import warnings\n",
    "warnings.filterwarnings(\"ignore\") # Ignore all warnings\n",
    "pd.set_option('display.max_columns', None) \n",
    "pd.set_option('display.max_rows', 10) # Display Max 10 Rows"
   ]
  },
  {
   "cell_type": "code",
   "execution_count": null,
   "metadata": {
    "execution": {
     "iopub.execute_input": "2022-01-17T17:30:56.767603Z",
     "iopub.status.busy": "2022-01-17T17:30:56.767302Z",
     "iopub.status.idle": "2022-01-17T17:30:56.945845Z",
     "shell.execute_reply": "2022-01-17T17:30:56.944985Z",
     "shell.execute_reply.started": "2022-01-17T17:30:56.767570Z"
    }
   },
   "outputs": [],
   "source": [
    "# Read the CSV data into dataframe\n",
    "\n",
    "df_cushion = pd.read_csv('./data/data_cushion.csv')\n",
    "df_emerald = pd.read_csv('./data/data_emerald.csv')\n",
    "df_heart = pd.read_csv('./data/data_heart.csv')\n",
    "df_oval = pd.read_csv('./data/data_oval.csv')\n",
    "df_radiant = pd.read_csv('./data/data_radiant.csv')\n",
    "df_round = pd.read_csv('./data/data_round.csv')\n",
    "\n",
    "df_cushion.drop(['Shape'], axis=1, inplace=True) \n",
    "df_emerald.drop(['Shape'], axis=1, inplace=True) \n",
    "df_heart.drop(['Shape'], axis=1, inplace=True) \n",
    "df_oval.drop(['Shape'], axis=1, inplace=True) \n",
    "df_radiant.drop(['Shape'], axis=1, inplace=True) \n",
    "df_round.drop(['Shape'], axis=1, inplace=True) \n",
    "\n",
    "frames = [df_cushion,df_heart, df_radiant]\n",
    "df = pd.concat(frames)\n",
    "\n",
    "df_oval['Price'].dtypes\n",
    "\n",
    "df\n"
   ]
  },
  {
   "cell_type": "code",
   "execution_count": 3,
   "metadata": {
    "execution": {
     "iopub.execute_input": "2022-01-17T17:30:56.947249Z",
     "iopub.status.busy": "2022-01-17T17:30:56.946944Z",
     "iopub.status.idle": "2022-01-17T17:30:56.996921Z",
     "shell.execute_reply": "2022-01-17T17:30:56.996093Z",
     "shell.execute_reply.started": "2022-01-17T17:30:56.947218Z"
    }
   },
   "outputs": [],
   "source": [
    "# Convert Price to float from string\n",
    "df['Price'] = df['Price'].str.replace(',', '').astype(np.float)\n",
    "\n",
    "frames = [df_emerald, df_oval, df_round]\n",
    "\n",
    "df = pd.concat(frames)\n",
    "\n",
    "# Function to return all numbers as an array\n",
    "def getNumbers(str):\n",
    "    import re\n",
    "    \n",
    "    array = re.findall(r'[0-9]', str)\n",
    "    return array\n",
    "\n",
    "# Convert Messurements to a usable string\n",
    "df['Messurements'] = df['Messurements'].apply(lambda x: getNumbers(x) )\n",
    "df['Messurements'] = df['Messurements'].apply(lambda x: ''.join(x) )\n",
    "\n",
    "# Derive new Attributes from the Messurements attribute\n",
    "df['length']= df['Messurements'].str[:3].astype(np.float) /100\n",
    "df['width'] = df['Messurements'].str[3:6].astype(np.float) /100\n",
    "df['depth'] = df['Messurements'].str[6:].astype(np.float) / 100\n",
    "\n",
    "df"
   ]
  },
  {
   "cell_type": "code",
   "execution_count": 4,
   "metadata": {
    "execution": {
     "iopub.execute_input": "2022-01-17T17:30:56.998803Z",
     "iopub.status.busy": "2022-01-17T17:30:56.998333Z",
     "iopub.status.idle": "2022-01-17T17:30:57.094627Z",
     "shell.execute_reply": "2022-01-17T17:30:57.093787Z",
     "shell.execute_reply.started": "2022-01-17T17:30:56.998759Z"
    }
   },
   "outputs": [],
   "source": [
    "def EDA(df):\n",
    "    print('\\033[1m' + 'Shape of the data :' + '\\033[0m')\n",
    "    print(df.shape, \n",
    "          '\\n------------------------------------------------------------------------------------\\n')\n",
    "    \n",
    "    print('\\033[1m' + 'All columns from the dataframe :' + '\\033[0m')\n",
    "    print(df.columns, \n",
    "          '\\n------------------------------------------------------------------------------------\\n')\n",
    "    \n",
    "    print('\\033[1m' + 'Datatpes and Missing values:' + '\\033[0m')\n",
    "    print(df.info(), \n",
    "          '\\n------------------------------------------------------------------------------------\\n')\n",
    "    \n",
    "    print('\\033[1m' + 'Missing value count:' + '\\033[0m')\n",
    "    print(df.isnull().sum(),\n",
    "          '\\n------------------------------------------------------------------------------------\\n')\n",
    "    \n",
    "    print('\\033[1m' + 'Summary statistics for the data' + '\\033[0m')\n",
    "    print(df.describe(include='all'), \n",
    "          '\\n------------------------------------------------------------------------------------\\n')\n",
    "    \n",
    "    print('\\033[1m' + 'Outliers in the data :' + '\\033[0m')\n",
    "    Q1 = df.quantile(0.25)\n",
    "    Q3 = df.quantile(0.75)\n",
    "    IQR = Q3 - Q1\n",
    "    outliers = (df < (Q1 - 1.5 * IQR)) | (df > (Q3 + 1.5 * IQR))\n",
    "    print(outliers.sum(), \n",
    "          '\\n------------------------------------------------------------------------------------\\n')\n",
    "        \n",
    "    print('\\033[1m' + 'Memory used by the data :' + '\\033[0m')\n",
    "    print(df.memory_usage(), \n",
    "          '\\n------------------------------------------------------------------------------------\\n')\n",
    "    \n",
    "    print('\\033[1m' + 'Number of duplicate values :' + '\\033[0m')\n",
    "    print(df.duplicated().sum())\n",
    "    \n",
    "EDA(df)"
   ]
  },
  {
   "cell_type": "code",
   "execution_count": 5,
   "metadata": {
    "execution": {
     "iopub.execute_input": "2022-01-17T17:30:57.097898Z",
     "iopub.status.busy": "2022-01-17T17:30:57.096936Z",
     "iopub.status.idle": "2022-01-17T17:30:57.106131Z",
     "shell.execute_reply": "2022-01-17T17:30:57.105139Z",
     "shell.execute_reply.started": "2022-01-17T17:30:57.097853Z"
    }
   },
   "outputs": [],
   "source": [
    "# Remove parameters unecessary to prediction\n",
    "df = df.drop(['Id', 'Messurements', 'Data Url'], axis=1)\n",
    "df.columns\n"
   ]
  },
  {
   "cell_type": "code",
   "execution_count": 6,
   "metadata": {
    "execution": {
     "iopub.execute_input": "2022-01-17T17:30:57.107619Z",
     "iopub.status.busy": "2022-01-17T17:30:57.107171Z",
     "iopub.status.idle": "2022-01-17T17:30:57.136853Z",
     "shell.execute_reply": "2022-01-17T17:30:57.136138Z",
     "shell.execute_reply.started": "2022-01-17T17:30:57.107579Z"
    }
   },
   "outputs": [],
   "source": [
    "# Split features used for prediction and label to train data\n",
    "features = df[ \n",
    "    ['Clarity',\n",
    "     'Weight',\n",
    "     'Colour',\n",
    "     'Polish',\n",
    "     'Cut',\n",
    "     'Symmetry',\n",
    "     'Fluorescence',\n",
    "     'length',\n",
    "     'width',\n",
    "     'depth',\n",
    "     ]\n",
    "]\n",
    "\n",
    "# Each price becomes a unique label \n",
    "labels= df['Price']\n",
    "features"
   ]
  },
  {
   "cell_type": "code",
   "execution_count": 7,
   "metadata": {
    "execution": {
     "iopub.execute_input": "2022-01-17T17:30:57.138429Z",
     "iopub.status.busy": "2022-01-17T17:30:57.138034Z",
     "iopub.status.idle": "2022-01-17T17:30:58.205220Z",
     "shell.execute_reply": "2022-01-17T17:30:58.204271Z",
     "shell.execute_reply.started": "2022-01-17T17:30:57.138387Z"
    }
   },
   "outputs": [],
   "source": [
    "from sklearn.model_selection import train_test_split\n",
    "\n",
    "X_train, X_test, y_train, y_test = train_test_split(pd.get_dummies( features ), labels, test_size=0.2, random_state=0)\n",
    "\n",
    "X_val, X_test, y_val, y_test = train_test_split(X_test, y_test, test_size=0.5, random_state=0)\n",
    "\n",
    "X_train.head()"
   ]
  },
  {
   "cell_type": "code",
   "execution_count": 8,
   "metadata": {
    "execution": {
     "iopub.execute_input": "2022-01-17T17:30:58.206582Z",
     "iopub.status.busy": "2022-01-17T17:30:58.206318Z",
     "iopub.status.idle": "2022-01-17T17:30:58.281362Z",
     "shell.execute_reply": "2022-01-17T17:30:58.280417Z",
     "shell.execute_reply.started": "2022-01-17T17:30:58.206552Z"
    }
   },
   "outputs": [],
   "source": [
    "from sklearn.preprocessing import MinMaxScaler\n",
    "\n",
    "# Min Max normalisation over the training data\n",
    "scaler = MinMaxScaler()\n",
    "scaler.fit(X_train)\n",
    "\n",
    "# Scale the training, test, and validation sets\n",
    "features = X_train.columns\n",
    "\n",
    "X_train[features] = scaler.transform(X_train[features])\n",
    "X_val[features] = scaler.transform(X_val[features])\n",
    "X_test[features] = scaler.transform(X_test[features])\n",
    "\n",
    "X_train.head()\n"
   ]
  },
  {
   "cell_type": "code",
   "execution_count": 9,
   "metadata": {
    "execution": {
     "iopub.execute_input": "2022-01-17T17:30:58.282870Z",
     "iopub.status.busy": "2022-01-17T17:30:58.282444Z",
     "iopub.status.idle": "2022-01-17T17:30:58.290596Z",
     "shell.execute_reply": "2022-01-17T17:30:58.289536Z",
     "shell.execute_reply.started": "2022-01-17T17:30:58.282836Z"
    }
   },
   "outputs": [],
   "source": [
    "def correlation_heat_map(data, title, zmin=-1, zmax=1, height=600, width= 800):\n",
    "    \"\"\"\n",
    "    data: Your dataframe.\n",
    "    title: Title for the correlation matrix.\n",
    "    zmin: Minimum number for color scale. (-1 to 1). \n",
    "    zmax: Maximum number for color scale. (-1 to 1). \n",
    "    height: height of diplayed map.\n",
    "    width: width of diplayed map.\n",
    "    \"\"\"\n",
    "    \n",
    "    # Pairwise correlation of all features\n",
    "    data = data.corr()\n",
    "    mask = np.triu(np.ones_like(data, dtype=bool))\n",
    "    rLT = data.mask(mask)\n",
    "\n",
    "    heat = go.Heatmap(\n",
    "        z = rLT,\n",
    "        x = rLT.columns.values,\n",
    "        y = rLT.columns.values,\n",
    "        zmin = zmin, \n",
    "            # Sets the lower bound of the color domain\n",
    "        zmax = zmax,\n",
    "            # Sets the upper bound of color domain\n",
    "        xgap = 1, # Sets the horizontal gap (in pixels) between bricks\n",
    "        ygap = 1,\n",
    "        colorscale = 'Greens'\n",
    "    )\n",
    "\n",
    "    title = title\n",
    "\n",
    "    layout = go.Layout(\n",
    "        title_text=title, \n",
    "        title_x=0.5, \n",
    "        width= width, \n",
    "        height= height,\n",
    "        xaxis_showgrid=False,\n",
    "        yaxis_showgrid=False,\n",
    "        yaxis_autorange='reversed'\n",
    "    )\n",
    "\n",
    "    fig= go.Figure(data=[heat], layout=layout)\n",
    "    return fig"
   ]
  },
  {
   "cell_type": "code",
   "execution_count": 10,
   "metadata": {
    "execution": {
     "iopub.execute_input": "2022-01-17T17:30:58.292588Z",
     "iopub.status.busy": "2022-01-17T17:30:58.292124Z",
     "iopub.status.idle": "2022-01-17T17:30:58.486603Z",
     "shell.execute_reply": "2022-01-17T17:30:58.485795Z",
     "shell.execute_reply.started": "2022-01-17T17:30:58.292545Z"
    }
   },
   "outputs": [],
   "source": [
    "Xy_train = pd.concat([X_train, y_train], axis=1)\n",
    "\n",
    "correlation_heat_map(Xy_train,'Correlation Map', height=1500, width=1500)"
   ]
  },
  {
   "cell_type": "code",
   "execution_count": 11,
   "metadata": {
    "execution": {
     "iopub.execute_input": "2022-01-17T17:30:58.488688Z",
     "iopub.status.busy": "2022-01-17T17:30:58.487929Z",
     "iopub.status.idle": "2022-01-17T17:30:59.743611Z",
     "shell.execute_reply": "2022-01-17T17:30:59.742875Z",
     "shell.execute_reply.started": "2022-01-17T17:30:58.488639Z"
    }
   },
   "outputs": [],
   "source": [
    "from sklearn.ensemble import RandomForestRegressor\n",
    "\n",
    "rfr = RandomForestRegressor(n_estimators=100, oob_score=True)\n",
    "rfr_model = rfr.fit(X_train, y_train)"
   ]
  },
  {
   "cell_type": "code",
   "execution_count": 12,
   "metadata": {
    "execution": {
     "iopub.execute_input": "2022-01-17T17:30:59.745015Z",
     "iopub.status.busy": "2022-01-17T17:30:59.744794Z",
     "iopub.status.idle": "2022-01-17T17:31:00.428370Z",
     "shell.execute_reply": "2022-01-17T17:31:00.427531Z",
     "shell.execute_reply.started": "2022-01-17T17:30:59.744989Z"
    }
   },
   "outputs": [],
   "source": [
    "plt.figure(figsize= (18, 45))\n",
    "\n",
    "feature_importance = rfr.feature_importances_\n",
    "indices = np.argsort(feature_importance)\n",
    "\n",
    "\n",
    "plt.yticks(range(len(indices)), [X_train.columns[i] for i in indices])\n",
    "plt.barh(range(len(indices)), feature_importance[indices],color='orange' ,align='center')\n",
    "plt.show()"
   ]
  },
  {
   "cell_type": "code",
   "execution_count": 13,
   "metadata": {
    "execution": {
     "iopub.execute_input": "2022-01-17T17:31:00.429833Z",
     "iopub.status.busy": "2022-01-17T17:31:00.429426Z",
     "iopub.status.idle": "2022-01-17T17:31:00.511627Z",
     "shell.execute_reply": "2022-01-17T17:31:00.511034Z",
     "shell.execute_reply.started": "2022-01-17T17:31:00.429760Z"
    }
   },
   "outputs": [],
   "source": [
    "print('Accuracy for Train:', rfr.score(X_train, y_train) )\n",
    "print('Accuracy for Test:', rfr.score(X_test, y_test) )"
   ]
  },
  {
   "cell_type": "code",
   "execution_count": 14,
   "metadata": {
    "execution": {
     "iopub.execute_input": "2022-01-17T17:31:00.515954Z",
     "iopub.status.busy": "2022-01-17T17:31:00.515722Z",
     "iopub.status.idle": "2022-01-17T17:31:00.554415Z",
     "shell.execute_reply": "2022-01-17T17:31:00.553662Z",
     "shell.execute_reply.started": "2022-01-17T17:31:00.515927Z"
    }
   },
   "outputs": [],
   "source": [
    "# Make predictions for the test set\n",
    "y_pred = rfr_model.predict(X_test)\n",
    "\n",
    "pred_res =pd.DataFrame({'Actual':y_test, 'Predicted':y_pred})\n",
    "pred_res"
   ]
  },
  {
   "cell_type": "code",
   "execution_count": 15,
   "metadata": {
    "execution": {
     "iopub.execute_input": "2022-01-17T17:31:00.556055Z",
     "iopub.status.busy": "2022-01-17T17:31:00.555623Z",
     "iopub.status.idle": "2022-01-17T17:31:00.566190Z",
     "shell.execute_reply": "2022-01-17T17:31:00.565241Z",
     "shell.execute_reply.started": "2022-01-17T17:31:00.556020Z"
    }
   },
   "outputs": [],
   "source": [
    "from sklearn import metrics\n",
    "\n",
    "# Print out the mean absolute error (MAE)\n",
    "print('Mean Absolute Error:', round( metrics.mean_absolute_error(y_test, y_pred),2 ))\n",
    "print('Mean Squared Error:', round( metrics.mean_squared_error(y_test, y_pred), 2))\n",
    "\n",
    "# Calculate mean absolute percentage error (MAPE)\n",
    "errors = abs(y_pred - y_test)\n",
    "mape = 100 * (errors / y_test)\n",
    "\n",
    "# Calculate and display accuracy\n",
    "accuracy = 100 - np.mean(mape)\n",
    "print('Accuracy:', round(accuracy, 2), '%.')"
   ]
  }
 ],
 "metadata": {
  "kernelspec": {
   "display_name": "Python 3",
   "language": "python",
   "name": "python3"
  },
  "language_info": {
   "codemirror_mode": {
    "name": "ipython",
    "version": 3
   },
   "file_extension": ".py",
   "mimetype": "text/x-python",
   "name": "python",
   "nbconvert_exporter": "python",
   "pygments_lexer": "ipython3",
   "version": "3.8.8"
  }
 },
 "nbformat": 4,
 "nbformat_minor": 4
}
